{
 "cells": [
  {
   "cell_type": "code",
   "execution_count": 1,
   "id": "02aca23d",
   "metadata": {},
   "outputs": [
    {
     "name": "stdout",
     "output_type": "stream",
     "text": [
      "   DATA_REF_NO FILTER  LAT_DD_WGS84  LON_DD_WGS84         MEDIUM  \\\n",
      "0      2387511  Total     30.261942    -97.739349  Surface Water   \n",
      "1      2386425  Total     30.262757    -97.738144  Surface Water   \n",
      "2      2386418  Total     30.297591    -97.727249  Surface Water   \n",
      "3      2386395  Total     30.297591    -97.727249  Surface Water   \n",
      "4       696760  Total     30.262757    -97.738144  Surface Water   \n",
      "\n",
      "           PARAM_TYPE                PARAMETER          PROJECT RESULT  \\\n",
      "0  Bacteria/Pathogens  FECAL COLIFORM BACTERIA  Water Watch Dog    100   \n",
      "1  Bacteria/Pathogens  FECAL COLIFORM BACTERIA  Water Watch Dog  5,600   \n",
      "2  Bacteria/Pathogens  FECAL COLIFORM BACTERIA  Water Watch Dog  2,500   \n",
      "3  Bacteria/Pathogens  FECAL COLIFORM BACTERIA  Water Watch Dog      0   \n",
      "4  Bacteria/Pathogens  FECAL COLIFORM BACTERIA  Water Watch Dog  2,950   \n",
      "\n",
      "    SAMPLE_DATE SAMPLE_ID  SAMPLE_REF_NO  SAMPLE_SITE_NO  \\\n",
      "0   7/6/90 0:00       NaN         479313            5652   \n",
      "1  10/5/90 0:00       NaN         479278             485   \n",
      "2  10/5/90 0:00       NaN         479277             625   \n",
      "3  11/2/90 0:00       NaN         479274             625   \n",
      "4  1/31/91 0:00       NaN          68152             485   \n",
      "\n",
      "                               SITE_NAME SITE_TYPE            UNIT  \\\n",
      "0            Waller Creek @ Cesar Chavez    Stream  Colonies/100mL   \n",
      "1  Waller Creek Downstream of 3rd Street    Stream  Colonies/100mL   \n",
      "2    Waller Creek @ 38th St. (USGS); W8A    Stream  Colonies/100mL   \n",
      "3    Waller Creek @ 38th St. (USGS); W8A    Stream  Colonies/100mL   \n",
      "4  Waller Creek Downstream of 3rd Street    Stream  Colonies/100mL   \n",
      "\n",
      "      WATERSHED  \n",
      "0  Waller Creek  \n",
      "1  Waller Creek  \n",
      "2  Waller Creek  \n",
      "3  Waller Creek  \n",
      "4  Waller Creek  \n"
     ]
    }
   ],
   "source": [
    "# Import pandas as pd\n",
    "import pandas as pd\n",
    "\n",
    "# Assign the filename: file\n",
    "file = 'Waller_Creek_Water_Quality_Data(AutoRecovered).csv'\n",
    "\n",
    "# Read the file into a DataFrame: df\n",
    "df = pd.read_csv(file)\n",
    "\n",
    "# View the head of the DataFrame\n",
    "print(df.head())"
   ]
  },
  {
   "cell_type": "code",
   "execution_count": 2,
   "id": "8b47962a",
   "metadata": {},
   "outputs": [
    {
     "data": {
      "text/plain": [
       "624     897\n",
       "625     573\n",
       "485     358\n",
       "2357    254\n",
       "38      251\n",
       "       ... \n",
       "674       1\n",
       "739       1\n",
       "673       1\n",
       "671       1\n",
       "738       1\n",
       "Name: SAMPLE_SITE_NO, Length: 68, dtype: int64"
      ]
     },
     "execution_count": 2,
     "metadata": {},
     "output_type": "execute_result"
    }
   ],
   "source": [
    "df['SAMPLE_SITE_NO'].value_counts()"
   ]
  },
  {
   "cell_type": "code",
   "execution_count": 3,
   "id": "10b82eb4",
   "metadata": {},
   "outputs": [
    {
     "data": {
      "text/plain": [
       "SAMPLE_SITE_NO\n",
       "19         3\n",
       "20         3\n",
       "22         7\n",
       "38       251\n",
       "208        5\n",
       "        ... \n",
       "10601      6\n",
       "10602      6\n",
       "10607      6\n",
       "10773      3\n",
       "10775      3\n",
       "Length: 68, dtype: int64"
      ]
     },
     "execution_count": 3,
     "metadata": {},
     "output_type": "execute_result"
    }
   ],
   "source": [
    "df.groupby('SAMPLE_SITE_NO').size()"
   ]
  },
  {
   "cell_type": "code",
   "execution_count": 4,
   "id": "57e23126",
   "metadata": {},
   "outputs": [
    {
     "name": "stdout",
     "output_type": "stream",
     "text": [
      "   DATA_REF_NO FILTER  LAT_DD_WGS84  LON_DD_WGS84         MEDIUM  \\\n",
      "0      2387511  Total     30.261942    -97.739349  Surface Water   \n",
      "1      2386425  Total     30.262757    -97.738144  Surface Water   \n",
      "2      2386418  Total     30.297591    -97.727249  Surface Water   \n",
      "3      2386395  Total     30.297591    -97.727249  Surface Water   \n",
      "4       696760  Total     30.262757    -97.738144  Surface Water   \n",
      "\n",
      "           PARAM_TYPE                PARAMETER          PROJECT RESULT  \\\n",
      "0  Bacteria/Pathogens  FECAL COLIFORM BACTERIA  Water Watch Dog    100   \n",
      "1  Bacteria/Pathogens  FECAL COLIFORM BACTERIA  Water Watch Dog  5,600   \n",
      "2  Bacteria/Pathogens  FECAL COLIFORM BACTERIA  Water Watch Dog  2,500   \n",
      "3  Bacteria/Pathogens  FECAL COLIFORM BACTERIA  Water Watch Dog      0   \n",
      "4  Bacteria/Pathogens  FECAL COLIFORM BACTERIA  Water Watch Dog  2,950   \n",
      "\n",
      "    SAMPLE_DATE SAMPLE_ID  SAMPLE_REF_NO  SAMPLE_SITE_NO  \\\n",
      "0   7/6/90 0:00       NaN         479313            5652   \n",
      "1  10/5/90 0:00       NaN         479278             485   \n",
      "2  10/5/90 0:00       NaN         479277             625   \n",
      "3  11/2/90 0:00       NaN         479274             625   \n",
      "4  1/31/91 0:00       NaN          68152             485   \n",
      "\n",
      "                               SITE_NAME SITE_TYPE            UNIT  \\\n",
      "0            Waller Creek @ Cesar Chavez    Stream  Colonies/100mL   \n",
      "1  Waller Creek Downstream of 3rd Street    Stream  Colonies/100mL   \n",
      "2    Waller Creek @ 38th St. (USGS); W8A    Stream  Colonies/100mL   \n",
      "3    Waller Creek @ 38th St. (USGS); W8A    Stream  Colonies/100mL   \n",
      "4  Waller Creek Downstream of 3rd Street    Stream  Colonies/100mL   \n",
      "\n",
      "      WATERSHED  \n",
      "0  Waller Creek  \n",
      "1  Waller Creek  \n",
      "2  Waller Creek  \n",
      "3  Waller Creek  \n",
      "4  Waller Creek  \n"
     ]
    }
   ],
   "source": [
    "#filter data for Bacteria/Pathogens data\n",
    "df2 = df[df['PARAM_TYPE'] == 'Bacteria/Pathogens']\n",
    "print(df2.head())\n"
   ]
  },
  {
   "cell_type": "code",
   "execution_count": 5,
   "id": "cf4bb4bd",
   "metadata": {},
   "outputs": [
    {
     "data": {
      "text/plain": [
       "624      386\n",
       "625      238\n",
       "2357     103\n",
       "485       93\n",
       "38        90\n",
       "781       81\n",
       "780       38\n",
       "4349      32\n",
       "4475      24\n",
       "1851       8\n",
       "1162       7\n",
       "10441      4\n",
       "210        3\n",
       "2352       3\n",
       "4917       3\n",
       "10447      3\n",
       "1314       3\n",
       "10600      3\n",
       "208        3\n",
       "10530      3\n",
       "293        2\n",
       "1315       2\n",
       "2739       2\n",
       "211        2\n",
       "2734       2\n",
       "290        2\n",
       "1040       2\n",
       "291        2\n",
       "212        2\n",
       "209        2\n",
       "10607      2\n",
       "10602      2\n",
       "10601      2\n",
       "292        2\n",
       "5652       1\n",
       "1318       1\n",
       "1319       1\n",
       "1317       1\n",
       "673        1\n",
       "739        1\n",
       "738        1\n",
       "2737       1\n",
       "674        1\n",
       "10490      1\n",
       "672        1\n",
       "671        1\n",
       "670        1\n",
       "10446      1\n",
       "4206       1\n",
       "4204       1\n",
       "10440      1\n",
       "4205       1\n",
       "Name: SAMPLE_SITE_NO, dtype: int64"
      ]
     },
     "execution_count": 5,
     "metadata": {},
     "output_type": "execute_result"
    }
   ],
   "source": [
    "#count sample_site_no for Bacteria/Pathogens\n",
    "df2['SAMPLE_SITE_NO'].value_counts()"
   ]
  },
  {
   "cell_type": "code",
   "execution_count": 6,
   "id": "3767968d",
   "metadata": {},
   "outputs": [
    {
     "name": "stdout",
     "output_type": "stream",
     "text": [
      "      DATA_REF_NO FILTER  LAT_DD_WGS84  LON_DD_WGS84         MEDIUM  \\\n",
      "1174      2387514  Total     30.261942    -97.739349  Surface Water   \n",
      "1175      2386426  Total     30.262757    -97.738144  Surface Water   \n",
      "1176      2386419  Total     30.297591    -97.727249  Surface Water   \n",
      "1177      2386396  Total     30.297591    -97.727249  Surface Water   \n",
      "1178      1028908  Total     30.262757    -97.738144  Surface Water   \n",
      "\n",
      "                  PARAM_TYPE PARAMETER          PROJECT RESULT   SAMPLE_DATE  \\\n",
      "1174  Alkalinity/Hardness/pH        PH  Water Watch Dog    8.1   7/6/90 0:00   \n",
      "1175  Alkalinity/Hardness/pH        PH  Water Watch Dog      8  10/5/90 0:00   \n",
      "1176  Alkalinity/Hardness/pH        PH  Water Watch Dog    8.5  10/5/90 0:00   \n",
      "1177  Alkalinity/Hardness/pH        PH  Water Watch Dog      9  11/2/90 0:00   \n",
      "1178  Alkalinity/Hardness/pH        PH  Water Watch Dog    8.5  1/31/91 0:00   \n",
      "\n",
      "     SAMPLE_ID  SAMPLE_REF_NO  SAMPLE_SITE_NO  \\\n",
      "1174       NaN         479313            5652   \n",
      "1175       NaN         479278             485   \n",
      "1176       NaN         479277             625   \n",
      "1177       NaN         479274             625   \n",
      "1178       NaN          68178             485   \n",
      "\n",
      "                                  SITE_NAME SITE_TYPE            UNIT  \\\n",
      "1174            Waller Creek @ Cesar Chavez    Stream  Standard units   \n",
      "1175  Waller Creek Downstream of 3rd Street    Stream  Standard units   \n",
      "1176    Waller Creek @ 38th St. (USGS); W8A    Stream  Standard units   \n",
      "1177    Waller Creek @ 38th St. (USGS); W8A    Stream  Standard units   \n",
      "1178  Waller Creek Downstream of 3rd Street    Stream  Standard units   \n",
      "\n",
      "         WATERSHED  \n",
      "1174  Waller Creek  \n",
      "1175  Waller Creek  \n",
      "1176  Waller Creek  \n",
      "1177  Waller Creek  \n",
      "1178  Waller Creek  \n"
     ]
    }
   ],
   "source": [
    "#filter data for Bacteria/Pathogens data\n",
    "df3 = df[df['PARAM_TYPE'] == 'Alkalinity/Hardness/pH']\n",
    "print(df3.head())"
   ]
  },
  {
   "cell_type": "code",
   "execution_count": 7,
   "id": "045bdf05",
   "metadata": {},
   "outputs": [
    {
     "data": {
      "text/plain": [
       "485      113\n",
       "781       87\n",
       "38        87\n",
       "624       86\n",
       "2357      53\n",
       "780       47\n",
       "4349      36\n",
       "4475      27\n",
       "625       24\n",
       "1851      10\n",
       "1162      10\n",
       "4206       6\n",
       "4204       6\n",
       "234        5\n",
       "4205       5\n",
       "10441      4\n",
       "4917       3\n",
       "10530      3\n",
       "10447      3\n",
       "1314       3\n",
       "2352       3\n",
       "10601      2\n",
       "10607      2\n",
       "10602      2\n",
       "1315       2\n",
       "10775      2\n",
       "10773      2\n",
       "1040       1\n",
       "2734       1\n",
       "2739       1\n",
       "291        1\n",
       "1317       1\n",
       "2737       1\n",
       "1319       1\n",
       "5652       1\n",
       "1318       1\n",
       "293        1\n",
       "292        1\n",
       "10490      1\n",
       "2289       1\n",
       "212        1\n",
       "211        1\n",
       "210        1\n",
       "209        1\n",
       "208        1\n",
       "10446      1\n",
       "10440      1\n",
       "290        1\n",
       "Name: SAMPLE_SITE_NO, dtype: int64"
      ]
     },
     "execution_count": 7,
     "metadata": {},
     "output_type": "execute_result"
    }
   ],
   "source": [
    "#count sample_site_no for Alkalinity/Hardness/pH\n",
    "df3['SAMPLE_SITE_NO'].value_counts()"
   ]
  },
  {
   "cell_type": "code",
   "execution_count": 8,
   "id": "ad38e5ab",
   "metadata": {},
   "outputs": [
    {
     "name": "stdout",
     "output_type": "stream",
     "text": [
      "      DATA_REF_NO     FILTER  LAT_DD_WGS84  LON_DD_WGS84         MEDIUM  \\\n",
      "1828      2387512  Dissolved     30.261942    -97.739349  Surface Water   \n",
      "1829      2387513      Total     30.261942    -97.739349  Surface Water   \n",
      "1830      2386424  Dissolved     30.262757    -97.738144  Surface Water   \n",
      "1831      2386417  Dissolved     30.297591    -97.727249  Surface Water   \n",
      "1832      2386394  Dissolved     30.297591    -97.727249  Surface Water   \n",
      "\n",
      "     PARAM_TYPE                                   PARAMETER          PROJECT  \\\n",
      "1828     Oxygen                            DISSOLVED OXYGEN  Water Watch Dog   \n",
      "1829     Oxygen  BIOCHEMICAL OXYGEN DEMAND (5 DAY 20 DEG C)  Water Watch Dog   \n",
      "1830     Oxygen                            DISSOLVED OXYGEN  Water Watch Dog   \n",
      "1831     Oxygen                            DISSOLVED OXYGEN  Water Watch Dog   \n",
      "1832     Oxygen                            DISSOLVED OXYGEN  Water Watch Dog   \n",
      "\n",
      "     RESULT   SAMPLE_DATE SAMPLE_ID  SAMPLE_REF_NO  SAMPLE_SITE_NO  \\\n",
      "1828     77   7/6/90 0:00       NaN         479313            5652   \n",
      "1829   6.64   7/6/90 0:00       NaN         479313            5652   \n",
      "1830    7.6  10/5/90 0:00       NaN         479278             485   \n",
      "1831     12  10/5/90 0:00       NaN         479277             625   \n",
      "1832     11  11/2/90 0:00       NaN         479274             625   \n",
      "\n",
      "                                  SITE_NAME SITE_TYPE         UNIT  \\\n",
      "1828            Waller Creek @ Cesar Chavez    Stream  (%) Percent   \n",
      "1829            Waller Creek @ Cesar Chavez    Stream         MG/L   \n",
      "1830  Waller Creek Downstream of 3rd Street    Stream         MG/L   \n",
      "1831    Waller Creek @ 38th St. (USGS); W8A    Stream         MG/L   \n",
      "1832    Waller Creek @ 38th St. (USGS); W8A    Stream         MG/L   \n",
      "\n",
      "         WATERSHED  \n",
      "1828  Waller Creek  \n",
      "1829  Waller Creek  \n",
      "1830  Waller Creek  \n",
      "1831  Waller Creek  \n",
      "1832  Waller Creek  \n"
     ]
    }
   ],
   "source": [
    "#filter data for Oxygen data\n",
    "df4 = df[df['PARAM_TYPE'] == 'Oxygen']\n",
    "print(df4.head())"
   ]
  },
  {
   "cell_type": "code",
   "execution_count": 9,
   "id": "80f3a94a",
   "metadata": {},
   "outputs": [
    {
     "data": {
      "text/plain": [
       "624      425\n",
       "625      311\n",
       "485      152\n",
       "2357      98\n",
       "38        74\n",
       "781       73\n",
       "780       37\n",
       "4349      36\n",
       "4475      26\n",
       "984       14\n",
       "983       14\n",
       "989       13\n",
       "985       13\n",
       "1162      11\n",
       "986       10\n",
       "1851      10\n",
       "22         7\n",
       "988        7\n",
       "4204       6\n",
       "4206       6\n",
       "987        5\n",
       "4205       5\n",
       "234        4\n",
       "10441      4\n",
       "20         3\n",
       "1319       3\n",
       "1314       3\n",
       "10447      3\n",
       "19         3\n",
       "10530      3\n",
       "2352       3\n",
       "10601      2\n",
       "5652       2\n",
       "1321       2\n",
       "1320       2\n",
       "1315       2\n",
       "10607      2\n",
       "10602      2\n",
       "2739       1\n",
       "1040       1\n",
       "10773      1\n",
       "10775      1\n",
       "10490      1\n",
       "1318       1\n",
       "1317       1\n",
       "209        1\n",
       "212        1\n",
       "208        1\n",
       "291        1\n",
       "2289       1\n",
       "292        1\n",
       "293        1\n",
       "2734       1\n",
       "210        1\n",
       "10440      1\n",
       "2737       1\n",
       "290        1\n",
       "4917       1\n",
       "10446      1\n",
       "211        1\n",
       "Name: SAMPLE_SITE_NO, dtype: int64"
      ]
     },
     "execution_count": 9,
     "metadata": {},
     "output_type": "execute_result"
    }
   ],
   "source": [
    "#count sample_site_no for Alkalinity/Hardness/pH\n",
    "df4['SAMPLE_SITE_NO'].value_counts()"
   ]
  },
  {
   "cell_type": "code",
   "execution_count": null,
   "id": "18f7d09a",
   "metadata": {},
   "outputs": [],
   "source": []
  }
 ],
 "metadata": {
  "kernelspec": {
   "display_name": "Python 3",
   "language": "python",
   "name": "python3"
  },
  "language_info": {
   "codemirror_mode": {
    "name": "ipython",
    "version": 3
   },
   "file_extension": ".py",
   "mimetype": "text/x-python",
   "name": "python",
   "nbconvert_exporter": "python",
   "pygments_lexer": "ipython3",
   "version": "3.8.8"
  }
 },
 "nbformat": 4,
 "nbformat_minor": 5
}
